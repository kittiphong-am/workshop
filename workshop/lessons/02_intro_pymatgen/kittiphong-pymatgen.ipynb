{
 "metadata": {
  "language_info": {
   "codemirror_mode": {
    "name": "ipython",
    "version": 3
   },
   "file_extension": ".py",
   "mimetype": "text/x-python",
   "name": "python",
   "nbconvert_exporter": "python",
   "pygments_lexer": "ipython3",
   "version": "3.9.5"
  },
  "orig_nbformat": 4,
  "kernelspec": {
   "name": "python3",
   "display_name": "Python 3.9.5 64-bit ('3.9')"
  },
  "interpreter": {
   "hash": "7812ea015bdcee6f23a998adcdd2ef97c151c0c241b7b7070987d9313e41299d"
  }
 },
 "nbformat": 4,
 "nbformat_minor": 2,
 "cells": [
  {
   "cell_type": "code",
   "execution_count": 1,
   "metadata": {},
   "outputs": [],
   "source": [
    "import pymatgen.core"
   ]
  },
  {
   "cell_type": "code",
   "execution_count": 2,
   "metadata": {},
   "outputs": [
    {
     "output_type": "stream",
     "name": "stdout",
     "text": [
      "2022.0.8\n"
     ]
    }
   ],
   "source": [
    "print(pymatgen.core.__version__)"
   ]
  },
  {
   "cell_type": "code",
   "execution_count": 3,
   "metadata": {},
   "outputs": [
    {
     "output_type": "stream",
     "name": "stdout",
     "text": [
      "/Library/Frameworks/Python.framework/Versions/3.9/lib/python3.9/site-packages/pymatgen/core/__init__.py\n"
     ]
    }
   ],
   "source": [
    "print(pymatgen.core.__file__)"
   ]
  },
  {
   "cell_type": "code",
   "execution_count": 4,
   "metadata": {},
   "outputs": [
    {
     "output_type": "stream",
     "name": "stdout",
     "text": [
      "3.9.5 (v3.9.5:0a7dcbdb13, May  3 2021, 13:17:02) \n[Clang 6.0 (clang-600.0.57)]\n"
     ]
    }
   ],
   "source": [
    "import sys\n",
    "print(sys.version)"
   ]
  },
  {
   "cell_type": "code",
   "execution_count": 5,
   "metadata": {},
   "outputs": [],
   "source": [
    "from pymatgen.core import Molecule"
   ]
  },
  {
   "cell_type": "code",
   "execution_count": 6,
   "metadata": {},
   "outputs": [
    {
     "output_type": "execute_result",
     "data": {
      "text/plain": [
       "pymatgen.core.structure.Molecule"
      ]
     },
     "metadata": {},
     "execution_count": 6
    }
   ],
   "source": [
    "Molecule"
   ]
  },
  {
   "cell_type": "code",
   "execution_count": 7,
   "metadata": {},
   "outputs": [
    {
     "output_type": "stream",
     "name": "stdout",
     "text": [
      "Full Formula (C1 O1)\nReduced Formula: CO\nCharge = 0.0, Spin Mult = 1\nSites (2)\n0 C     0.000000     0.000000     0.000000\n1 O     0.000000     0.000000     1.200000\n"
     ]
    }
   ],
   "source": [
    "c_monox = Molecule([\"C\",\"O\"], [[0.0, 0.0, 0.0], [0.0, 0.0, 1.2]])\n",
    "print(c_monox)"
   ]
  },
  {
   "cell_type": "code",
   "execution_count": 8,
   "metadata": {},
   "outputs": [
    {
     "output_type": "stream",
     "name": "stdout",
     "text": [
      "Full Formula (H1 O1)\nReduced Formula: H2O2\nCharge = -1, Spin Mult = 1\nSites (2)\n0 O     0.000000     0.000000     0.000000\n1 H     0.000000     0.000000     1.000000\n"
     ]
    }
   ],
   "source": [
    "oh_minus = Molecule([\"O\", \"H\"], [[0.0, 0.0, 0.0], [0.0, 0.0, 1.0]], charge=-1)\n",
    "print(oh_minus)"
   ]
  },
  {
   "cell_type": "code",
   "execution_count": 9,
   "metadata": {},
   "outputs": [
    {
     "output_type": "stream",
     "name": "stdout",
     "text": [
      "Full Formula (H2 O1)\nReduced Formula: H2O\nCharge = 0, Spin Mult = 1\nSites (3)\n0 O    -0.070000    -0.026960    -0.095240\n1 H     0.919330    -0.015310    -0.054070\n2 H    -0.359290     0.231000     0.816010\n"
     ]
    }
   ],
   "source": [
    "water = Molecule.from_file(\"water.xyz\")\n",
    "print(water)"
   ]
  },
  {
   "cell_type": "code",
   "execution_count": 10,
   "metadata": {},
   "outputs": [
    {
     "output_type": "stream",
     "name": "stdout",
     "text": [
      "Full Formula (H4 C1)\nReduced Formula: H4C\nCharge = 0, Spin Mult = 1\nSites (5)\n0 C     0.000000     0.000000    -0.000000\n1 H    -0.363330    -0.513830     0.889980\n2 H     1.090000     0.000000     0.000000\n3 H    -0.363330     1.027660     0.000000\n4 H    -0.363330    -0.513830    -0.889980\n"
     ]
    }
   ],
   "source": [
    "methane = Molecule.from_file(\"methane.xyz\")\n",
    "print(methane)"
   ]
  },
  {
   "cell_type": "code",
   "execution_count": 11,
   "metadata": {},
   "outputs": [
    {
     "output_type": "stream",
     "name": "stdout",
     "text": [
      "Full Formula (H8 C4 O1)\nReduced Formula: H8C4O\nCharge = 0, Spin Mult = 1\nSites (13)\n0 C    -0.402040     1.374890    -0.070860\n1 O     0.031180     0.046800     0.242780\n2 C     1.357290    -0.141010    -0.266300\n3 C     1.805370     1.140980    -0.991960\n4 C     0.503460     1.922920    -1.183860\n5 H    -0.328440     1.995270     0.825650\n6 H    -1.444090     1.349820    -0.394240\n7 H     2.038200    -0.379780     0.553240\n8 H     1.339210    -0.985330    -0.958090\n9 H     2.503850     1.706720    -0.368680\n10 H     2.282590     0.916460    -1.949400\n11 H     0.660120     3.000300    -1.084620\n12 H     0.070620     1.711640    -2.165470\n"
     ]
    }
   ],
   "source": [
    "furan = Molecule.from_file(\"furan.xyz\")\n",
    "print(furan)"
   ]
  },
  {
   "cell_type": "code",
   "execution_count": 12,
   "metadata": {},
   "outputs": [
    {
     "output_type": "stream",
     "name": "stdout",
     "text": [
      "Full Formula (H6 C6)\nReduced Formula: HC\nCharge = 0, Spin Mult = 1\nSites (12)\n0 C    -0.713080     1.203780     0.000000\n1 C    -0.009040    -0.015660     0.000000\n2 C     1.399040    -0.015660     0.000000\n3 C     2.103080     1.203780     0.000000\n4 C     1.399040     2.423210    -0.000000\n5 C    -0.009040     2.423210    -0.000000\n6 H    -1.735510     1.203780    -0.000000\n7 H    -0.520250    -0.901110    -0.000000\n8 H     1.910250    -0.901110    -0.000000\n9 H     3.125510     1.203780    -0.000000\n10 H     1.910250     3.308660     0.000000\n11 H    -0.520250     3.308660     0.000000\n"
     ]
    }
   ],
   "source": [
    "benzene = Molecule.from_file(\"benzene.xyz\")\n",
    "print(benzene)"
   ]
  },
  {
   "cell_type": "code",
   "execution_count": 13,
   "metadata": {},
   "outputs": [
    {
     "output_type": "stream",
     "name": "stdout",
     "text": [
      "[[0.  0.  0. ]\n [0.  0.  1.2]]\n"
     ]
    }
   ],
   "source": [
    "print(c_monox.cart_coords)"
   ]
  },
  {
   "cell_type": "code",
   "execution_count": 14,
   "metadata": {},
   "outputs": [
    {
     "output_type": "stream",
     "name": "stdout",
     "text": [
      "[0.         0.         0.68544132]\n"
     ]
    }
   ],
   "source": [
    "print(c_monox.center_of_mass)"
   ]
  },
  {
   "cell_type": "code",
   "execution_count": 16,
   "metadata": {},
   "outputs": [
    {
     "output_type": "stream",
     "name": "stdout",
     "text": [
      "Full Formula (C1 O1)\nReduced Formula: CO\nCharge = 1, Spin Mult = 2\nSites (2)\n0 C     0.000000     0.000000     0.000000\n1 O     0.000000     0.000000     1.200000\n"
     ]
    }
   ],
   "source": [
    "c_monox.set_charge_and_spin(charge=1)\n",
    "print(c_monox)"
   ]
  },
  {
   "cell_type": "code",
   "execution_count": 17,
   "metadata": {},
   "outputs": [
    {
     "output_type": "execute_result",
     "data": {
      "text/plain": [
       "2"
      ]
     },
     "metadata": {},
     "execution_count": 17
    }
   ],
   "source": [
    "len(c_monox)"
   ]
  },
  {
   "cell_type": "code",
   "execution_count": 18,
   "metadata": {},
   "outputs": [
    {
     "output_type": "stream",
     "name": "stdout",
     "text": [
      "[0. 0. 0.] C\n"
     ]
    }
   ],
   "source": [
    "print(c_monox[0])"
   ]
  },
  {
   "cell_type": "code",
   "execution_count": 19,
   "metadata": {},
   "outputs": [
    {
     "output_type": "stream",
     "name": "stdout",
     "text": [
      "Full Formula (C1 O1)\nReduced Formula: CO\nCharge = 1, Spin Mult = 2\nSites (2)\n0 O     0.000000     0.000000     0.000000\n1 C     0.000000     0.000000     1.200000\n"
     ]
    }
   ],
   "source": [
    "c_monox[0] = \"O\"\n",
    "c_monox[1] = \"C\"\n",
    "print(c_monox)"
   ]
  },
  {
   "cell_type": "code",
   "execution_count": 20,
   "metadata": {},
   "outputs": [],
   "source": [
    "site0 = c_monox[0]"
   ]
  },
  {
   "cell_type": "code",
   "execution_count": 21,
   "metadata": {},
   "outputs": [
    {
     "output_type": "execute_result",
     "data": {
      "text/plain": [
       "array([0., 0., 0.])"
      ]
     },
     "metadata": {},
     "execution_count": 21
    }
   ],
   "source": [
    "site0.coords"
   ]
  },
  {
   "cell_type": "code",
   "execution_count": 22,
   "metadata": {},
   "outputs": [
    {
     "output_type": "execute_result",
     "data": {
      "text/plain": [
       "Element O"
      ]
     },
     "metadata": {},
     "execution_count": 22
    }
   ],
   "source": [
    "site0.specie"
   ]
  },
  {
   "cell_type": "code",
   "execution_count": 27,
   "metadata": {},
   "outputs": [],
   "source": [
    "from pymatgen.core import Element, Composition\n",
    "from pymatgen.core.periodic_table import Specie"
   ]
  },
  {
   "cell_type": "code",
   "execution_count": 28,
   "metadata": {},
   "outputs": [],
   "source": [
    "carbon = Element('C')"
   ]
  },
  {
   "cell_type": "code",
   "execution_count": 29,
   "metadata": {},
   "outputs": [
    {
     "output_type": "execute_result",
     "data": {
      "text/plain": [
       "0.3"
      ]
     },
     "metadata": {},
     "execution_count": 29
    }
   ],
   "source": [
    "carbon.average_ionic_radius"
   ]
  },
  {
   "cell_type": "code",
   "execution_count": 30,
   "metadata": {},
   "outputs": [
    {
     "output_type": "execute_result",
     "data": {
      "text/plain": [
       "Species O2-"
      ]
     },
     "metadata": {},
     "execution_count": 30
    }
   ],
   "source": [
    "o_ion = Specie('O', oxidation_state=-2)\n",
    "o_ion"
   ]
  },
  {
   "cell_type": "code",
   "execution_count": 31,
   "metadata": {},
   "outputs": [
    {
     "output_type": "execute_result",
     "data": {
      "text/plain": [
       "-2"
      ]
     },
     "metadata": {},
     "execution_count": 31
    }
   ],
   "source": [
    "o_ion.oxi_state"
   ]
  },
  {
   "cell_type": "code",
   "execution_count": 32,
   "metadata": {},
   "outputs": [
    {
     "output_type": "execute_result",
     "data": {
      "text/plain": [
       "15.9994"
      ]
     },
     "metadata": {},
     "execution_count": 32
    }
   ],
   "source": [
    "o_ion.atomic_mass"
   ]
  },
  {
   "cell_type": "code",
   "execution_count": 33,
   "metadata": {},
   "outputs": [
    {
     "output_type": "execute_result",
     "data": {
      "text/plain": [
       "Species O2-"
      ]
     },
     "metadata": {},
     "execution_count": 33
    }
   ],
   "source": [
    "Specie.from_string('O2-')"
   ]
  },
  {
   "cell_type": "code",
   "execution_count": 34,
   "metadata": {},
   "outputs": [],
   "source": [
    "comp = Composition({'Au': 0.5, 'Cu': 0.5})"
   ]
  },
  {
   "cell_type": "code",
   "execution_count": 35,
   "metadata": {},
   "outputs": [
    {
     "output_type": "stream",
     "name": "stdout",
     "text": [
      "formula Au0.5 Cu0.5\nchemical system Au-Cu\n"
     ]
    }
   ],
   "source": [
    "print(\"formula\", comp.alphabetical_formula)\n",
    "print(\"chemical system\", comp.chemical_system)"
   ]
  },
  {
   "cell_type": "code",
   "execution_count": 36,
   "metadata": {},
   "outputs": [
    {
     "output_type": "stream",
     "name": "stdout",
     "text": [
      "Full Formula (H1 C1 N1)\nReduced Formula: HCN\nCharge = 0.0, Spin Mult = 1\nSites (3)\n0 H     0.000000     0.000000     0.000000\n1 C     0.950000     0.000000     0.000000\n2 N     2.300000     0.000000     0.000000\n"
     ]
    }
   ],
   "source": [
    "H_rad = Element('H').atomic_radius\n",
    "C_rad = Element('C').atomic_radius\n",
    "N_rad = Element('N').atomic_radius\n",
    "HC_bond_dist = H_rad + C_rad\n",
    "CN_bond_dist = C_rad + N_rad\n",
    "H_pos = 0\n",
    "C_pos = H_pos + HC_bond_dist\n",
    "N_pos = C_pos + CN_bond_dist\n",
    "hcn = Molecule(['H','C','N'], [[H_pos, 0, 0], [C_pos, 0, 0],[N_pos, 0, 0]])\n",
    "print(hcn)"
   ]
  },
  {
   "cell_type": "code",
   "execution_count": 42,
   "metadata": {},
   "outputs": [],
   "source": [
    "from pymatgen.core.lattice import Lattice\n",
    "from pymatgen.core.structure import Structure"
   ]
  },
  {
   "cell_type": "code",
   "execution_count": 43,
   "metadata": {},
   "outputs": [],
   "source": [
    "my_lattice = Lattice([[5, 0, 0], [0, 5, 0], [0, 0, 5]])"
   ]
  },
  {
   "cell_type": "code",
   "execution_count": 44,
   "metadata": {},
   "outputs": [
    {
     "output_type": "stream",
     "name": "stdout",
     "text": [
      "5.000000 0.000000 0.000000\n0.000000 5.000000 0.000000\n0.000000 0.000000 5.000000\n"
     ]
    }
   ],
   "source": [
    "print(my_lattice)"
   ]
  },
  {
   "cell_type": "code",
   "execution_count": 48,
   "metadata": {},
   "outputs": [
    {
     "output_type": "stream",
     "name": "stdout",
     "text": [
      "5.000000 0.000000 0.000000\n-0.000000 5.000000 0.000000\n0.000000 0.000000 5.000000\n"
     ]
    }
   ],
   "source": [
    "my_lattice_2 = Lattice.from_parameters(5, 5, 5, 90, 90, 90)\n",
    "print(my_lattice_2)"
   ]
  },
  {
   "cell_type": "code",
   "execution_count": 49,
   "metadata": {},
   "outputs": [
    {
     "output_type": "stream",
     "name": "stdout",
     "text": [
      "5.000000 0.000000 0.000000\n0.000000 5.000000 0.000000\n0.000000 0.000000 5.000000\n"
     ]
    }
   ],
   "source": [
    "my_lattice_3 = Lattice.cubic(5)\n",
    "print(my_lattice_3)"
   ]
  },
  {
   "cell_type": "code",
   "execution_count": 50,
   "metadata": {},
   "outputs": [
    {
     "output_type": "execute_result",
     "data": {
      "text/plain": [
       "True"
      ]
     },
     "metadata": {},
     "execution_count": 50
    }
   ],
   "source": [
    "my_lattice == my_lattice_2 == my_lattice_3"
   ]
  },
  {
   "cell_type": "code",
   "execution_count": 51,
   "metadata": {},
   "outputs": [
    {
     "output_type": "stream",
     "name": "stdout",
     "text": [
      "Full Formula (Fe2)\nReduced Formula: Fe\nabc   :   2.800000   2.800000   2.800000\nangles:  90.000000  90.000000  90.000000\nSites (2)\n  #  SP      a    b    c\n---  ----  ---  ---  ---\n  0  Fe    0    0    0\n  1  Fe    0.5  0.5  0.5\n"
     ]
    }
   ],
   "source": [
    "bcc_fe = Structure(Lattice.cubic(2.8), [\"Fe\", \"Fe\"], [[0, 0, 0], [0.5, 0.5, 0.5]])\n",
    "print(bcc_fe)"
   ]
  },
  {
   "cell_type": "code",
   "execution_count": 52,
   "metadata": {},
   "outputs": [
    {
     "output_type": "stream",
     "name": "stdout",
     "text": [
      "Full Formula (Fe2)\nReduced Formula: Fe\nabc   :   2.800000   2.800000   2.800000\nangles:  90.000000  90.000000  90.000000\nSites (2)\n  #  SP      a    b    c\n---  ----  ---  ---  ---\n  0  Fe    0    0    0\n  1  Fe    0.5  0.5  0.5\n"
     ]
    }
   ],
   "source": [
    "bcc_fe_from_cart = Structure(Lattice.cubic(2.8), [\"Fe\", \"Fe\"], [[0, 0, 0], [1.4, 1.4, 1.4]],\n",
    "                             coords_are_cartesian=True)\n",
    "print(bcc_fe_from_cart)"
   ]
  },
  {
   "cell_type": "code",
   "execution_count": 53,
   "metadata": {},
   "outputs": [
    {
     "output_type": "execute_result",
     "data": {
      "text/plain": [
       "True"
      ]
     },
     "metadata": {},
     "execution_count": 53
    }
   ],
   "source": [
    "bcc_fe == bcc_fe_from_cart"
   ]
  },
  {
   "cell_type": "code",
   "execution_count": 54,
   "metadata": {},
   "outputs": [
    {
     "output_type": "execute_result",
     "data": {
      "text/plain": [
       "21.951999999999995"
      ]
     },
     "metadata": {},
     "execution_count": 54
    }
   ],
   "source": [
    "bcc_fe.volume"
   ]
  },
  {
   "cell_type": "code",
   "execution_count": 55,
   "metadata": {},
   "outputs": [
    {
     "output_type": "stream",
     "name": "stdout",
     "text": [
      "Full Formula (Fe2)\nReduced Formula: Fe\nabc   :   2.800000   2.800000   2.800000\nangles:  90.000000  90.000000  90.000000\nSites (2)\n  #  SP      a    b    c\n---  ----  ---  ---  ---\n  0  Fe    0    0    0\n  1  Fe    0.5  0.5  0.5\n"
     ]
    }
   ],
   "source": [
    "bcc_fe = Structure.from_spacegroup(\"Im-3m\", Lattice.cubic(2.8), [\"Fe\"], [[0, 0, 0]])\n",
    "print(bcc_fe)"
   ]
  },
  {
   "cell_type": "code",
   "execution_count": 56,
   "metadata": {},
   "outputs": [
    {
     "output_type": "stream",
     "name": "stdout",
     "text": [
      "Full Formula (Na4 Cl4)\nReduced Formula: NaCl\nabc   :   5.692000   5.692000   5.692000\nangles:  90.000000  90.000000  90.000000\nSites (8)\n  #  SP      a    b    c\n---  ----  ---  ---  ---\n  0  Na+   0    0    0\n  1  Na+   0    0.5  0.5\n  2  Na+   0.5  0    0.5\n  3  Na+   0.5  0.5  0\n  4  Cl-   0.5  0.5  0.5\n  5  Cl-   0.5  0    0\n  6  Cl-   0    0.5  0\n  7  Cl-   0    0    0.5\n"
     ]
    }
   ],
   "source": [
    "nacl = Structure.from_spacegroup(\"Fm-3m\", Lattice.cubic(5.692), [\"Na+\", \"Cl-\"],\n",
    "                                 [[0, 0, 0], [0.5, 0.5, 0.5]])\n",
    "print(nacl)"
   ]
  },
  {
   "cell_type": "code",
   "execution_count": 57,
   "metadata": {},
   "outputs": [
    {
     "output_type": "execute_result",
     "data": {
      "text/plain": [
       "('Fm-3m', 225)"
      ]
     },
     "metadata": {},
     "execution_count": 57
    }
   ],
   "source": [
    "nacl.get_space_group_info()"
   ]
  },
  {
   "cell_type": "code",
   "execution_count": 58,
   "metadata": {},
   "outputs": [
    {
     "output_type": "stream",
     "name": "stdout",
     "text": [
      "Full Formula (Po1)\nReduced Formula: Po\nabc   :   3.400000   3.400000   3.400000\nangles:  90.000000  90.000000  90.000000\nSites (1)\n  #  SP      a    b    c\n---  ----  ---  ---  ---\n  0  Po      0    0    0\n"
     ]
    }
   ],
   "source": [
    "polonium = Structure(Lattice.cubic(3.4), [\"Po\"], [[0.0, 0.0, 0.0]])\n",
    "\n",
    "print(polonium)"
   ]
  },
  {
   "cell_type": "code",
   "execution_count": 59,
   "metadata": {},
   "outputs": [
    {
     "output_type": "stream",
     "name": "stdout",
     "text": [
      "Full Formula (Po8)\nReduced Formula: Po\nabc   :   6.800000   6.800000   6.800000\nangles:  90.000000  90.000000  90.000000\nSites (8)\n  #  SP      a    b    c\n---  ----  ---  ---  ---\n  0  Po    0    0    0\n  1  Po    0    0    0.5\n  2  Po    0    0.5  0\n  3  Po    0    0.5  0.5\n  4  Po    0.5  0    0\n  5  Po    0.5  0    0.5\n  6  Po    0.5  0.5  0\n  7  Po    0.5  0.5  0.5\n"
     ]
    }
   ],
   "source": [
    "supercell = polonium * (2, 2, 2)\n",
    "print(supercell)"
   ]
  },
  {
   "cell_type": "code",
   "execution_count": 60,
   "metadata": {},
   "outputs": [
    {
     "output_type": "stream",
     "name": "stdout",
     "text": [
      "('R3m', 160)\nFull Formula (Mg4 Ti4 O12)\nReduced Formula: MgTiO3\nabc   :   4.077159   4.077159  16.308637\nangles:  89.699022  89.699022  89.699022\nSites (20)\n  #  SP           a         b         c\n---  ----  --------  --------  --------\n  0  Mg    0.497155  0.497155  0.124289\n  1  Mg    0.497155  0.497155  0.374289\n  2  Mg    0.497155  0.497155  0.624289\n  3  Mg    0.497155  0.497155  0.874289\n  4  Ti    0.982209  0.982209  0.245552\n  5  Ti    0.982209  0.982209  0.495552\n  6  Ti    0.982209  0.982209  0.745552\n  7  Ti    0.982209  0.982209  0.995552\n  8  O     0.524065  0.012736  0.003184\n  9  O     0.524065  0.012736  0.253184\n 10  O     0.524065  0.012736  0.503184\n 11  O     0.524065  0.012736  0.753184\n 12  O     0.012736  0.012736  0.131016\n 13  O     0.012736  0.012736  0.381016\n 14  O     0.012736  0.012736  0.631016\n 15  O     0.012736  0.012736  0.881016\n 16  O     0.012736  0.524065  0.003184\n 17  O     0.012736  0.524065  0.253184\n 18  O     0.012736  0.524065  0.503184\n 19  O     0.012736  0.524065  0.753184\n('R3m', 160)\n"
     ]
    }
   ],
   "source": [
    "BaTiO3=Structure.from_file(\"BaTiO3.cif\")\n",
    "print(BaTiO3.get_space_group_info())\n",
    "BaTiO3.replace(0,'Mg')\n",
    "BaTiO3=BaTiO3*(1,1,4)\n",
    "print(BaTiO3)\n",
    "print(BaTiO3.get_space_group_info())"
   ]
  },
  {
   "cell_type": "code",
   "execution_count": null,
   "metadata": {},
   "outputs": [],
   "source": []
  }
 ]
}